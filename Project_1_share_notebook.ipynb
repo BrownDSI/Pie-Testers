{
 "cells": [
  {
   "cell_type": "markdown",
   "metadata": {},
   "source": [
    "DATA 1030 Project 1: Population Growth Rate Prediction"
   ]
  },
  {
   "cell_type": "markdown",
   "metadata": {},
   "source": [
    "Questions to think about:\n",
    "    1. Use income/person (GDP/capita, PPP$ inflation_adjusted) \n",
    "        or GDP/capita (inflation_adjusted) \n",
    "        or GDP/capita growth rate  ???\n",
    "    2. Need better data for education factors, policy, war, migration, death rate.....\n",
    "    3. Dan suggested \"population growth rate = birth rate - death rate\".   \n",
    "    4. ..."
   ]
  },
  {
   "cell_type": "markdown",
   "metadata": {},
   "source": [
    "Step 0: Import Packages"
   ]
  },
  {
   "cell_type": "code",
   "execution_count": 2,
   "metadata": {
    "collapsed": true
   },
   "outputs": [],
   "source": [
    "import pandas as pd\n",
    "import numpy as np\n",
    "import seaborn as sns\n",
    "import matplotlib.pyplot as plt\n",
    "% matplotlib inline\n",
    "import sklearn as skl\n",
    "from sklearn.model_selection import train_test_split\n",
    "from sklearn import preprocessing, neighbors, metrics\n",
    "from sklearn.neighbors import KNeighborsClassifier\n",
    "from sklearn.linear_model import LogisticRegression\n",
    "\n",
    "# plt.style.use('seaborn-whitegrid')"
   ]
  },
  {
   "cell_type": "markdown",
   "metadata": {},
   "source": [
    "Step 0.1: Read Play_sample_data"
   ]
  },
  {
   "cell_type": "code",
   "execution_count": null,
   "metadata": {},
   "outputs": [
    {
     "name": "stdout",
     "output_type": "stream",
     "text": [
      "   Country  Year  Population   GDP  Child Mortality  Unemployment Rate\n",
      "0        A  1988         1.1   NaN             0.51               0.11\n",
      "1        A  1989         1.2  10.2             0.52               0.12\n",
      "2        A  1990         1.3  10.3             0.53               0.13\n",
      "3        A  1991         1.4  10.4             0.54               0.14\n",
      "4        A  1992         1.5  10.5             0.55               0.15\n",
      "5        A  1993         1.6  10.6             0.56               0.16\n",
      "6        A  1994         1.7  10.7             0.57               0.17\n",
      "7        A  1995         1.8  10.8             0.58               0.18\n",
      "8        A  1996         1.9  10.9             0.59               0.19\n",
      "9        A  1997         2.0  11.0              NaN               0.20\n",
      "10       B  1990       100.0   9.5             0.61             200.00\n",
      "11       B  1991         1.2   9.6             0.62               0.22\n",
      "12       B  1992         1.3   9.7             0.63               0.23\n",
      "13       B  1993         1.4   9.8             0.64               0.24\n",
      "14       B  1994         1.5   9.9             0.65               0.25\n",
      "15       B  1995         1.6   NaN             0.66               0.26\n",
      "16       B  1996         1.7  10.1             0.67               0.27\n",
      "17       B  1997         1.8   0.0             0.68               0.28\n",
      "18       B  1998         1.9  10.3             0.69               0.29\n",
      "19       C  1990         2.2  11.1             0.70               0.30\n",
      "20       C  1991         2.3  11.2             0.71               0.31\n",
      "21       C  1992         2.4  11.3             0.72               0.32\n",
      "22       C  1993         0.0  11.4             0.73               0.33\n",
      "23       C  1994         2.6  11.5             0.74               0.34\n",
      "24       C  1995         2.7  11.6             0.75               0.35\n",
      "25       C  1996         2.8  11.7             0.76               0.36\n",
      "26       C  1997         2.9   NaN              NaN               0.37\n",
      "27       C  1998         3.0  11.9             0.78               0.38\n",
      "28       C  1999         3.1  12.0             0.79               0.39\n",
      "29       C  2000         3.2  12.1             0.80               0.40\n",
      "30       D  1990         3.3   0.0             0.81               0.41\n",
      "31       D  1991         3.4  12.3             0.82               0.42\n",
      "32       D  1992         3.5  12.4             0.83               0.43\n"
     ]
    }
   ],
   "source": [
    "play = pd.read_csv('/Users/chuwu/Desktop/project1/play_sample_data.csv')"
   ]
  },
  {
   "cell_type": "markdown",
   "metadata": {},
   "source": [
    "Step 1: Read Data"
   ]
  },
  {
   "cell_type": "code",
   "execution_count": 37,
   "metadata": {},
   "outputs": [],
   "source": [
    "growth_rate = pd.read_csv('/Users/chuwu/Desktop/project1/datasets/population_growth_annual_percent.csv')\n",
    "mortality = pd.read_csv('/Users/chuwu/Desktop/project1/datasets/child_mortality_0_5_year_olds_dying_per_1000_born.csv')\n",
    "food = pd.read_csv('/Users/chuwu/Desktop/project1/datasets/food_supply_kilocalories_per_person_and_day.csv')\n",
    "income = pd.read_csv('/Users/chuwu/Desktop/project1/datasets/income_per_person_gdppercapita_ppp_inflation_adjusted.csv')\n",
    "gdp = pd.read_csv('/Users/chuwu/Desktop/project1/datasets/gdppercapita_us_inflation_adjusted.csv')\n",
    "hdi = pd.read_csv('/Users/chuwu/Desktop/project1/datasets/hdi_human_development_index.csv')\n",
    "unemployment = pd.read_csv('/Users/chuwu/Desktop/project1/datasets/long_term_unemployment_rate_percent.csv')\n",
    "policy = pd.read_csv('/Users/chuwu/Desktop/project1/datasets/population_policies_aid_given_percent_of_aid.csv')\n",
    "             "
   ]
  },
  {
   "cell_type": "code",
   "execution_count": null,
   "metadata": {},
   "outputs": [],
   "source": [
    "#we'd better find other datasets to construct education factors??????????\n",
    "male_25_edu_year = pd.read_csv('/Users/chuwu/Desktop/project1/datasets/mean_years_in_school_men_25_years_and_older.csv')\n",
    "female_percent_15_19 = pd.read_csv('/Users/chuwu/Desktop/project1/datasets/population_aged_15_19_years_female_percent.csv')\n"
   ]
  },
  {
   "cell_type": "code",
   "execution_count": null,
   "metadata": {
    "collapsed": true
   },
   "outputs": [],
   "source": [
    "# A cell left for you to print datasets above \n",
    "\n"
   ]
  },
  {
   "cell_type": "code",
   "execution_count": null,
   "metadata": {},
   "outputs": [],
   "source": []
  },
  {
   "cell_type": "code",
   "execution_count": null,
   "metadata": {
    "collapsed": true
   },
   "outputs": [],
   "source": []
  }
 ],
 "metadata": {
  "kernelspec": {
   "display_name": "Python 3",
   "language": "python",
   "name": "python3"
  },
  "language_info": {
   "codemirror_mode": {
    "name": "ipython",
    "version": 3
   },
   "file_extension": ".py",
   "mimetype": "text/x-python",
   "name": "python",
   "nbconvert_exporter": "python",
   "pygments_lexer": "ipython3",
   "version": "3.6.5"
  }
 },
 "nbformat": 4,
 "nbformat_minor": 2
}
